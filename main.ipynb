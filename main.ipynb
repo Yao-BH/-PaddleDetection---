{
 "cells": [
  {
   "cell_type": "markdown",
   "metadata": {},
   "source": [
    "# 🔥基于PaddleDetection的医疗显微图像-结核杆菌识别\n",
    "&emsp;&emsp;此项目使用PP-yolov2检测痰液中的结合杆菌，从而实现异常检测。\n",
    "\n",
    "**相信你看完这篇项目一定会有所收获的**\n",
    ">先看后赞，养成习惯\n",
    "\n",
    ">folk收藏，人生辉煌\n",
    "\n",
    "![](https://ai-studio-static-online.cdn.bcebos.com/f907ebf2dec34f81945f0479f0cc89fbc9789653df6a4d8f9af5e322e05eeb95)"
   ]
  },
  {
   "cell_type": "markdown",
   "metadata": {},
   "source": [
    "# 一、项目背景\n",
    ">结核病（Tuberculosis，TB)是由结核分枝杆菌（Mycobacterium tuberculosis) 引起的一种慢性人畜共患病，它不受年龄、性别、种族、职业、地区的影响，人体许多器官、系统均可患结核病，其中以肺结核最为常见。结核病既是一个公共卫生问题，也是一个社会经济问题，对人类的公共健康构成很大威胁，因此对其快速诊断检测就至关重要。\n",
    "\n",
    "1.虽然染色处理可以使得结核杆菌在显微镜拍摄的医学图像中显现，医生则可以通过检测图像中的结核杆菌辅助诊断患者是否有结核病。🎯<br>2.但是通过构建准确率的目标检测模型可实现由智能系统辅助医生进行检测工作，应用于目前的医疗检测产品中能够满足真实的结核病检测需求。🎯<br>3.实现AI+医疗,为产业赋能。🎯\n",
    "\n",
    "![](https://ai-studio-static-online.cdn.bcebos.com/ddcd43c947c84101bded5b6730f55d8d93448a90e0804e08854976cd59fa8b52)\n"
   ]
  },
  {
   "cell_type": "markdown",
   "metadata": {},
   "source": [
    "# 二、数据简介\n",
    "\n",
    "数据说明<br>\n",
    "&emsp;&emsp;该数据集全部与结核有关，取自痰液样本。它包含1265个痰液图像以及3734个细菌的边界框。XML文件包含图像的边界框详细信息。\n",
    ">数据来源 AI Research and Automated Laboratory Diagnostics"
   ]
  },
  {
   "cell_type": "code",
   "execution_count": null,
   "metadata": {
    "scrolled": true
   },
   "outputs": [],
   "source": [
    "# 1.加载数据集\n",
    "!unzip /home/aistudio/data/data83968/Tuberculosis6208.zip -d ./Dataset"
   ]
  },
  {
   "cell_type": "markdown",
   "metadata": {},
   "source": [
    "# 三、模型的选择与开发\n",
    "&emsp;&emsp;使用PaddleDetection,使用pp-yolov2算法"
   ]
  },
  {
   "cell_type": "markdown",
   "metadata": {},
   "source": [
    "## 1.简介\n",
    "\n",
    "&emsp;&emsp;相较20年发布的PP-YOLO，v2版本在COCO 2017 test-dev上的精度提升了3.6个百分点，由45.9%提升到了49.5%；在640*640的输入尺寸下，FPS达到68.9FPS。 PP-YOLOv2在同等速度下，精度超越YOLOv5！\n",
    "\n",
    "<div align=\"center\">\n",
    "  <img src=\"https://ai-studio-static-online.cdn.bcebos.com/3f0ca399f712482a9ebb1c32ebe6945d69bb610e3aa849a89a4f80910c5c763c\" width=500 />\n",
    "</div>\n",
    "\n",
    "\n",
    "## 2.模型库\n",
    "\n",
    "### PP-YOLO模型库\n",
    "\n",
    "|          Model           | GPU number | images/GPU |  backbone  | input shape | Box AP<sup>val</sup> | Box AP<sup>test</sup> | V100 FP32(FPS) | V100 TensorRT FP16(FPS) | download | config  |\n",
    "|:------------------------:|:-------:|:-------------:|:----------:| :-------:| :------------------: | :-------------------: | :------------: | :---------------------: | :------: | :------: |\n",
    "| PP-YOLO                  |     8      |     24     | ResNet50vd |     608     |         44.8         |         45.2          |      72.9      |          155.6          | [model](https://paddledet.bj.bcebos.com/models/ppyolo_r50vd_dcn_1x_coco.pdparams) | [config](https://github.com/PaddlePaddle/PaddleDetection/tree/release/2.0/configs/ppyolo/ppyolo_r50vd_dcn_1x_coco.yml)                   |\n",
    "| PP-YOLO                  |     8      |     24     | ResNet50vd |     512     |         43.9         |         44.4          |      89.9      |          188.4          | [model](https://paddledet.bj.bcebos.com/models/ppyolo_r50vd_dcn_1x_coco.pdparams) | [config](https://github.com/PaddlePaddle/PaddleDetection/tree/release/2.0/configs/ppyolo/ppyolo_r50vd_dcn_1x_coco.yml)                   |\n",
    "| PP-YOLO                  |     8      |     24     | ResNet50vd |     416     |         42.1         |         42.5          |      109.1      |          215.4          | [model](https://paddledet.bj.bcebos.com/models/ppyolo_r50vd_dcn_1x_coco.pdparams) | [config](https://github.com/PaddlePaddle/PaddleDetection/tree/release/2.0/configs/ppyolo/ppyolo_r50vd_dcn_1x_coco.yml)                   |\n",
    "| PP-YOLO                  |     8      |     24     | ResNet50vd |     320     |         38.9         |         39.3          |      132.2      |          242.2          | [model](https://paddledet.bj.bcebos.com/models/ppyolo_r50vd_dcn_1x_coco.pdparams) | [config](https://github.com/PaddlePaddle/PaddleDetection/tree/release/2.0/configs/ppyolo/ppyolo_r50vd_dcn_1x_coco.yml)                   |\n",
    "| PP-YOLO_2x               |     8      |     24     | ResNet50vd |     608     |         45.3         |         45.9          |      72.9      |          155.6          | [model](https://paddledet.bj.bcebos.com/models/ppyolo_r50vd_dcn_2x_coco.pdparams) | [config](https://github.com/PaddlePaddle/PaddleDetection/tree/release/2.0/configs/ppyolo/ppyolo_r50vd_dcn_2x_coco.yml)                   |\n",
    "| PP-YOLO_2x               |     8      |     24     | ResNet50vd |     512     |         44.4         |         45.0          |      89.9      |          188.4          | [model](https://paddledet.bj.bcebos.com/models/ppyolo_r50vd_dcn_2x_coco.pdparams) | [config](https://github.com/PaddlePaddle/PaddleDetection/tree/release/2.0/configs/ppyolo/ppyolo_r50vd_dcn_2x_coco.yml)                   |\n",
    "| PP-YOLO_2x               |     8      |     24     | ResNet50vd |     416     |         42.7         |         43.2          |      109.1      |          215.4          | [model](https://paddledet.bj.bcebos.com/models/ppyolo_r50vd_dcn_2x_coco.pdparams) | [config](https://github.com/PaddlePaddle/PaddleDetection/tree/release/2.0/configs/ppyolo/ppyolo_r50vd_dcn_2x_coco.yml)                   |\n",
    "| PP-YOLO_2x               |     8      |     24     | ResNet50vd |     320     |         39.5         |         40.1          |      132.2      |          242.2          | [model](https://paddledet.bj.bcebos.com/models/ppyolo_r50vd_dcn_2x_coco.pdparams) | [config](https://github.com/PaddlePaddle/PaddleDetection/tree/release/2.0/configs/ppyolo/ppyolo_r50vd_dcn_2x_coco.yml)                   |\n",
    "| PP-YOLO               |     4      |     32     | ResNet18vd |     512     |         29.2         |         29.5          |      357.1      |          657.9          | [model](https://paddledet.bj.bcebos.com/models/ppyolo_r18vd_coco.pdparams) | [config](https://github.com/PaddlePaddle/PaddleDetection/tree/release/2.0/configs/ppyolo/ppyolo_r18vd_coco.yml)                   |\n",
    "| PP-YOLO               |     4      |     32     | ResNet18vd |     416     |         28.6         |         28.9          |      409.8      |          719.4          | [model](https://paddledet.bj.bcebos.com/models/ppyolo_r18vd_coco.pdparams) | [config](https://github.com/PaddlePaddle/PaddleDetection/tree/release/2.0/configs/ppyolo/ppyolo_r18vd_coco.yml)                   |\n",
    "| PP-YOLO               |     4      |     32     | ResNet18vd |     320     |         26.2         |         26.4          |      480.7      |          763.4          | [model](https://paddledet.bj.bcebos.com/models/ppyolo_r18vd_coco.pdparams) | [config](https://github.com/PaddlePaddle/PaddleDetection/tree/release/2.0/configs/ppyolo/ppyolo_r18vd_coco.yml)                   |\n",
    "| PP-YOLOv2               |     8      |     12     | ResNet50vd |     640     |         49.1         |         49.5          |      68.9      |          106.5          | [model](https://paddledet.bj.bcebos.com/models/ppyolov2_r50vd_dcn_365e_coco.pdparams) | [config](https://github.com/PaddlePaddle/PaddleDetection/tree/release/2.0/configs/ppyolo/ppyolov2_r50vd_dcn_365e_coco.yml)                   |\n",
    "| PP-YOLOv2               |     8      |     12     | ResNet101vd |     640     |         49.7         |         50.3          |     49.5     |         87.0         | [model](https://paddledet.bj.bcebos.com/models/ppyolov2_r101vd_dcn_365e_coco.pdparams) | [config](https://github.com/PaddlePaddle/PaddleDetection/tree/release/2.0/configs/ppyolo/ppyolov2_r101vd_dcn_365e_coco.yml)                   |\n",
    "\n",
    "\n",
    "**注意:**\n",
    "\n",
    "- PP-YOLO模型使用COCO数据集中train2017作为训练集，使用val2017和test-dev2017作为测试集，Box AP<sup>test</sup>为`mAP(IoU=0.5:0.95)`评估结果。\n",
    "- PP-YOLO模型训练过程中使用8 GPUs，每GPU batch size为24进行训练，如训练GPU数和batch size不使用上述配置，须参考[FAQ](https://github.com/PaddlePaddle/PaddleDetection/blob/release/2.0/static/docs/FAQ.md)调整学习率和迭代次数。\n",
    "- PP-YOLO模型推理速度测试采用单卡V100，batch size=1进行测试，使用CUDA 10.2, CUDNN 7.5.1，TensorRT推理速度测试使用TensorRT 5.1.2.2。\n",
    "- PP-YOLO模型FP32的推理速度测试数据为使用`tools/export_model.py`脚本导出模型后，使用`deploy/python/infer.py`脚本中的`--run_benchnark`参数使用Paddle预测库进行推理速度benchmark测试结果, 且测试的均为不包含数据预处理和模型输出后处理(NMS)的数据(与[YOLOv4(AlexyAB)](https://github.com/AlexeyAB/darknet)测试方法一致)。\n",
    "- TensorRT FP16的速度测试相比于FP32去除了`yolo_box`(bbox解码)部分耗时，即不包含数据预处理，bbox解码和NMS(与[YOLOv4(AlexyAB)](https://github.com/AlexeyAB/darknet)测试方法一致)。\n",
    "\n",
    ">综合分析后我选择使用了PP-YOLOv2＋ResNet50vd"
   ]
  },
  {
   "cell_type": "markdown",
   "metadata": {},
   "source": [
    "## 3.基于PaddleDetection代码算法实现\n",
    "此项目使用的是PaddleDetection套件，下载地址为：\n",
    "github：[https://github.com/PaddlePaddle/PaddleDetection](https://github.com/PaddlePaddle/PaddleDetection)"
   ]
  },
  {
   "cell_type": "code",
   "execution_count": null,
   "metadata": {
    "scrolled": true
   },
   "outputs": [],
   "source": [
    "# 下载PaddleDetection\r\n",
    "!git clone https://gitee.com/paddlepaddle/PaddleDetection.git"
   ]
  },
  {
   "cell_type": "markdown",
   "metadata": {},
   "source": [
    "### 3.1 配置数据集\n",
    "&emsp;&emsp;**由于发现数据集中提供的的标注文件和图片混在一起，所以我们将其分类。<br>\n",
    "以下提供两种方法：**"
   ]
  },
  {
   "cell_type": "code",
   "execution_count": null,
   "metadata": {
    "scrolled": true
   },
   "outputs": [],
   "source": [
    "# 方法一：\n",
    "\n",
    "import os\n",
    "# 创建一层目录\n",
    "os.mkdir(\"Dataset/JPEGImages\")\n",
    "os.makedirs(\"Dataset/Annotations\")\n",
    "\n",
    "import os\n",
    "import shutil\n",
    "\n",
    "# 创建文件夹\n",
    "path_xml = \"Dataset/tuberculosis-phonecamera\"\n",
    "filelist = os.listdir(path_xml)\n",
    "path1 = \"Dataset/tuberculosis-phonecamera\"\n",
    "path2 = \"Dataset/JPEGImages/\"\n",
    "path3 = \"Dataset/Annotations/\"\n",
    "\n",
    "\n",
    "for files in filelist:\n",
    "    filename1 = os.path.splitext(files)[1]  # 读取文件后缀名\n",
    "    filename0 = os.path.splitext(files)[0]  #读取文件名\n",
    "    # print(filename1)\n",
    "    m = filename1 == '.jpg'\n",
    "    # print(m)\n",
    "    if m :\n",
    "        full_path = os.path.join(path1, files)\n",
    "        despath = path2 + filename0+'.jpg' #.jpg为你的文件类型，即后缀名\n",
    "        shutil.move(full_path, despath)\n",
    "\n",
    "    else :\n",
    "        full_path = os.path.join(path1, files)\n",
    "        despath = path3 + filename0 + '.xml'  # .jpg为你的文件类型，即后缀名\n",
    "        shutil.move(full_path, despath)"
   ]
  },
  {
   "cell_type": "code",
   "execution_count": null,
   "metadata": {
    "scrolled": true
   },
   "outputs": [],
   "source": [
    "# 移动文件到PaddlDetection下\n",
    "os.makedirs(\"PaddleDetection/dataset/data\")\n",
    "\n",
    "shutil.move('Dataset/Annotations','PaddleDetection/dataset/data')\n",
    "shutil.move('Dataset/JPEGImages','PaddleDetection/dataset/data')"
   ]
  },
  {
   "cell_type": "code",
   "execution_count": null,
   "metadata": {
    "scrolled": true
   },
   "outputs": [],
   "source": [
    "# 方法二：\n",
    "\n",
    "# 创建文件夹\n",
    "!mkdir /home/aistudio/PaddleDetection/data/\n",
    "!mkdir /home/aistudio/PaddleDetection/data/JPEGImages/\n",
    "!mkdir /home/aistudio/PaddleDetection/data/Annotations/\n",
    "# 分别移动两种文件\n",
    "!mv ../tuberculosis-phonecamera/*.jpg /home/aistudio/PaddleDetection/data/JPEGImages/\n",
    "!mv ../tuberculosis-phonecamera/*.xml /home/aistudio/PaddleDetection/data/Annotations/\n"
   ]
  },
  {
   "cell_type": "markdown",
   "metadata": {},
   "source": [
    "### 3.2 划分训练集与验证集\n",
    "\n",
    "同样提供两种方法:\n",
    "<br>&emsp;&emsp;1.使用PaddleX直接划分<br>\n",
    "`!paddlex --split_dataset --format VOC --dataset_dir 文件路径 --val_value 0.2 --test_value 0.1`(记得修改文件路径)\n",
    "\n",
    "<br>&emsp;&emsp;2.见下方演示"
   ]
  },
  {
   "cell_type": "code",
   "execution_count": null,
   "metadata": {
    "scrolled": true
   },
   "outputs": [],
   "source": [
    "import os \n",
    "import random\n",
    "# 类别数量 \n",
    "file_saved = []   # 保存数据\n",
    "random.seed(2022) # 设置随机数种子\n",
    "# voc数据路径问题\n",
    "# 根目录信息，子目录信息，files_img--该文件夹下的文件名称\n",
    "for _, _, files_img in os.walk('PaddleDetection/dataset/data/JPEGImages'):\n",
    "    random.shuffle(files_img)\n",
    "    for _, _, files_xml in os.walk('PaddleDetection/dataset/data/Annotations'):\n",
    "        # indexs = 0\n",
    "        # 1.jpg\n",
    "        # 1.xml\n",
    "        for i in range(len(files_img)):  # 遍历图片文件--一张一张的\n",
    "            for j in range(len(files_xml)):\n",
    "                # 匹配，与图片前缀名称一致的xml文件\n",
    "                # 前缀是否一致\n",
    "                if files_img[i][:-4] == files_xml[j][:-4]:\n",
    "                    # 图片的相对路径 + 空格 + 标注文件的相对路径 + '\\n'\n",
    "                    # jpeg, img -- join -> jpeg/img\n",
    "                    # JPEGImages/files_img[i]\n",
    "                    file_maked = os.path.join('JPEGImages', files_img[i]) + ' ' + os.path.join('Annotations', files_xml[j])  + '\\n'\n",
    "                    \n",
    "                    file_saved.append(file_maked)          # 每一个类别放在对应的缓存空间中\n",
    "                    break\n",
    "# example: 图片的相对路径 + 空格 + 标注文件的相对路径 + '\\n'\n",
    "# 训练集的划分\n",
    "# 训练集占80%的数据\n",
    "# 验证集/评估数据集：1-80% = 20%\n",
    "Train_percent = 0.8\n",
    "# train.txt保存\n",
    "with open('PaddleDetection/dataset/data/train.txt', 'w') as f:\n",
    "    # int(Train_percent * len(file_saved))\n",
    "    # final_index = int(len(file_saved)*Train_percent) - 1\n",
    "    f.writelines(file_saved[:int(len(file_saved)*Train_percent)])  # 写入多行数据\n",
    "    print('train.txt Has Writed {0} records!'.format(len(file_saved[:int(len(file_saved)*Train_percent)])))\n",
    "# eval.txt保存\n",
    "with open('PaddleDetection/dataset/data/eval.txt', 'w') as f:\n",
    "    # final_index + 1 == int(len(file_saved)*Train_percent)\n",
    "    f.writelines(file_saved[int(len(file_saved)*Train_percent):])\n",
    "    print('eval.txt Has Writed {0} records!'.format(len(file_saved[int(len(file_saved)*Train_percent):])))"
   ]
  },
  {
   "cell_type": "markdown",
   "metadata": {},
   "source": [
    "### 3.3 修改源码,配置文件"
   ]
  },
  {
   "cell_type": "markdown",
   "metadata": {},
   "source": [
    "**新建label_list.txt**\n",
    "\n",
    "&emsp;&emsp;经过划分我们已经有了eval.txt以及train.txt,我们还需要我们的标签文件,通过分析数据集我们所要识别的只有一类`TBbacillus`结合杆菌,所以我们新建label_list.txt加入标签\n",
    "\n",
    "![](https://ai-studio-static-online.cdn.bcebos.com/3857fdcfb48346b58741616dae045b52f17fc53c4cce4bb78fc8b5f4ae84fd7c)\n"
   ]
  },
  {
   "cell_type": "code",
   "execution_count": null,
   "metadata": {
    "scrolled": true
   },
   "outputs": [],
   "source": [
    "def text_create(name, msg):\n",
    "    desktop_path = \"PaddleDetection/dataset/data/\"  # 新创建的txt文件的存放路径\n",
    "    full_path = desktop_path + name + '.txt'  \n",
    "    file = open(full_path, 'w')\n",
    "    file.write(msg)       # msg也就是下面的TBbacillus!\n",
    "    file.close()      # 记得关闭文件\n",
    " \n",
    "text_create('label_list', 'TBbacillus')"
   ]
  },
  {
   "cell_type": "markdown",
   "metadata": {},
   "source": [
    "**修改源文件,并配置模型**"
   ]
  },
  {
   "cell_type": "markdown",
   "metadata": {},
   "source": [
    "&emsp;&emsp;打开此目录下文件并修改为图片样式`PaddleDetection/configs/ppyolo/ppyolov2_r50vd_dcn_voc.yml`<br>\n",
    "`snapshot_epoch`为迭代轮次以及参数保存轮次、周期，这要根据你的具体样数本来决定，可以先保持默认数值(因为只是实例,为了方便我写为了5)<br>\n",
    "`epoch`训练批次\n",
    "\n",
    "![](https://ai-studio-static-online.cdn.bcebos.com/1f8195d0ccb84cc4b533b6216892e060fc89315615f643c1afd83c125ac846b8)\n",
    "\n",
    "&emsp;&emsp;之后，再修改以下目录文件PaddleDetection/configs/datasets/voc.yml\n",
    "\n",
    "![](https://ai-studio-static-online.cdn.bcebos.com/2a24fb429b0f4124aeb74cbe3600d243f9b66920984c4bd5945b3a3e49eb8c0c)\n",
    "\n",
    "&emsp;&emsp;将其中路径修改为之前存放的训练集、验证集以及标签的路径."
   ]
  },
  {
   "cell_type": "markdown",
   "metadata": {},
   "source": [
    "### 🎯**易错警示**\n",
    "&emsp;&emsp;我在训练时候发现标签文件中没有size关键字(就是相当于没有原始图片的大小),所以我通过如下测试:"
   ]
  },
  {
   "cell_type": "code",
   "execution_count": null,
   "metadata": {
    "scrolled": true
   },
   "outputs": [],
   "source": [
    "import cv2\r\n",
    "img = cv2.imread('PaddleDetection/dataset/data/JPEGImages/tuberculosis-phone-0002.jpg')\r\n",
    "h,w,c = img.shape\r\n",
    "print(h)\r\n",
    "print(w)\r\n",
    "print(c)"
   ]
  },
  {
   "cell_type": "markdown",
   "metadata": {},
   "source": [
    "&emsp;&emsp;通过如上代码我测试了众多图片,发现数据集中图片都为这个尺寸:`width = 1632,height = 1224,depth = 3`,所以将`PaddleDetection/ppdet/data/source/voc.py`此目录下进行修改.并赋予了一个初始值.\n",
    "\n",
    "![](https://ai-studio-static-online.cdn.bcebos.com/cf4e2fd4152a4bd8a21fee8f7272f2f55cd5679b315a48b5bdf50e7320c2efb9)\n",
    "\n"
   ]
  },
  {
   "cell_type": "markdown",
   "metadata": {},
   "source": [
    "## 4. 模型训练"
   ]
  },
  {
   "cell_type": "code",
   "execution_count": null,
   "metadata": {
    "scrolled": true
   },
   "outputs": [],
   "source": [
    "# 下载PaddleDetection依赖库\n",
    "%cd /home/aistudio/PaddleDetection/\n",
    "!pip install -r requirements.txt"
   ]
  },
  {
   "cell_type": "code",
   "execution_count": null,
   "metadata": {
    "scrolled": true
   },
   "outputs": [],
   "source": [
    "# 因为他提示我更新pip,所以更新了一下\r\n",
    "!/opt/conda/envs/python35-paddle120-env/bin/python -m pip install --use --upgrade pip "
   ]
  },
  {
   "cell_type": "code",
   "execution_count": null,
   "metadata": {
    "scrolled": true
   },
   "outputs": [],
   "source": [
    "!python setup.py install"
   ]
  },
  {
   "cell_type": "code",
   "execution_count": null,
   "metadata": {
    "scrolled": true
   },
   "outputs": [],
   "source": [
    "# 模型训练,并配置GPU训练\n",
    "import os\n",
    "os.environ['CUDA_VISIBLE_DEVICES'] = '0'\n",
    "%cd /home/aistudio/PaddleDetection/\n",
    "# !CUDA_VISIBLE_DEVICES=0\n",
    "!python tools/train.py -c configs/ppyolo/ppyolov2_r50vd_dcn_voc.yml  --use_vdl=True --vdl_log_dir=\"./output\"\n"
   ]
  },
  {
   "cell_type": "markdown",
   "metadata": {},
   "source": [
    "## 5. 数据模型可视化\n",
    "\n",
    "将下列设置好后\n",
    "\n",
    "![](https://ai-studio-static-online.cdn.bcebos.com/97dfac16c2ed4932861bd7e8ee33a13938cf377d43334fecbb08004bab58f473)\n",
    "\n",
    "\n",
    "我们就可以查看,我们训练时的参数\n",
    "\n",
    "![](https://ai-studio-static-online.cdn.bcebos.com/c3214a5094e74218a503f335e450560aa57ef2e1f45e40d995cfcf3ad5331b43)\n",
    "![](https://ai-studio-static-online.cdn.bcebos.com/710b404679e14f6f928f5b1c5007e81b9cab86726e994f90aa19615fb226f90b)"
   ]
  },
  {
   "cell_type": "markdown",
   "metadata": {},
   "source": [
    "## 6. 模型评估\n",
    "\n",
    "因为训练时间过长,所以我只进行了短暂的训练,最后的最佳为这个文件,我们可以通过后面的代码,测试他的精确度.\n",
    "\n",
    "![](https://ai-studio-static-online.cdn.bcebos.com/5e43d02f09b9447cbab3aaf5568a53981d50caa1c700417cac1209ca4bbf2fef)\n"
   ]
  },
  {
   "cell_type": "code",
   "execution_count": null,
   "metadata": {
    "scrolled": true
   },
   "outputs": [],
   "source": [
    "!python -u tools/eval.py -c configs/ppyolo/ppyolov2_r50vd_dcn_voc.yml"
   ]
  },
  {
   "cell_type": "markdown",
   "metadata": {},
   "source": [
    "## 7. 模型预测"
   ]
  },
  {
   "cell_type": "code",
   "execution_count": null,
   "metadata": {
    "scrolled": true
   },
   "outputs": [],
   "source": [
    "!python tools/infer.py -c configs/ppyolo/ppyolov2_r50vd_dcn_voc.yml\\\n",
    "--infer_img=/home/aistudio/PaddleDetection/dataset/data/JPEGImages/tuberculosis-phone-0641.jpg \\  \n",
    "-o weights=/home/aistudio/PaddleDetection/output/ppyolov2_r50vd_dcn_voc/model_final.pdparams"
   ]
  },
  {
   "cell_type": "markdown",
   "metadata": {},
   "source": [
    "以下为我们检测出的效果\n",
    "\n",
    "\n",
    "![](https://ai-studio-static-online.cdn.bcebos.com/47562649699d4861affa7f393d0f691fbdb9687fb8414244b5536c582c0e03d0)\n",
    "\n",
    "\n",
    "![](https://ai-studio-static-online.cdn.bcebos.com/adc39642032444898b3d4b12556925c9886bfb8ebcce4fdf8afd94b688162d89)\n"
   ]
  },
  {
   "cell_type": "markdown",
   "metadata": {},
   "source": [
    "# 总结\n",
    "&emsp;&emsp;目前项目还有很多可以优化的方面\n",
    ">1.一定要结合源码,进行项目的完善与学习\n",
    "\n",
    ">2.本项目数据集还不算太多,大家之后可以添加更多数据进入,并对相关参数进行修改,那么精确度就会更好的.\n",
    "\n",
    ">3.同时也感谢大佬的帮助，让我在遇到问题时可以更快的解决。🔥🔥🔥"
   ]
  },
  {
   "cell_type": "markdown",
   "metadata": {},
   "source": [
    "# 个人简介\n",
    ">2020级 数据科学与大数据技术专业 本科生 姚博豪\n",
    "\n",
    ">本人也是一名在深度学习路上奔跑的小白。也希望我踩过坑的一些经验，可以对大家有一些帮助。\n",
    "\n",
    ">百度飞桨领航团团长\n",
    "\n",
    ">互联网＋省级银奖，中国高校计算机大赛西北赛区二等奖等\n",
    "\n",
    ">[姚菜菜的主页](https://aistudio.baidu.com/aistudio/personalcenter/thirdview/755022)\n"
   ]
  }
 ],
 "metadata": {
  "kernelspec": {
   "display_name": "Python 3",
   "language": "python",
   "name": "py35-paddle1.2.0"
  },
  "language_info": {
   "codemirror_mode": {
    "name": "ipython",
    "version": 3
   },
   "file_extension": ".py",
   "mimetype": "text/x-python",
   "name": "python",
   "nbconvert_exporter": "python",
   "pygments_lexer": "ipython3",
   "version": "3.7.4"
  }
 },
 "nbformat": 4,
 "nbformat_minor": 4
}
